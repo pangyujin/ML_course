{
 "cells": [
  {
   "cell_type": "code",
   "execution_count": 1,
   "metadata": {
    "tags": []
   },
   "outputs": [],
   "source": [
    "%matplotlib inline\n",
    "import numpy as np\n",
    "import matplotlib.pyplot as plt\n",
    "\n",
    "%load_ext autoreload\n",
    "%autoreload 2\n",
    "\n",
    "# Load test module for sanity check\n",
    "from test_utils import test"
   ]
  },
  {
   "cell_type": "markdown",
   "execution_count": null,
   "metadata": {},
   "source": [
    "Data Generation\n",
    "==="
   ]
  },
  {
   "cell_type": "code",
   "execution_count": 2,
   "metadata": {
    "tags": []
   },
   "outputs": [
    {
     "name": "stdout",
     "output_type": "stream",
     "text": [
      "[[0.77132064 0.02075195]\n",
      " [0.63364823 0.74880388]\n",
      " [0.49850701 0.22479665]\n",
      " [0.19806286 0.76053071]] \n",
      "\n",
      " [[0.16911084 0.08833981]\n",
      " [0.68535982 0.95339335]\n",
      " [0.00394827 0.51219226]\n",
      " [0.81262096 0.61252607]\n",
      " [0.72175532 0.29187607]]\n"
     ]
    }
   ],
   "source": [
    "np.random.seed(10)\n",
    "P, Q = (np.random.rand(i, 2) for i in (4, 5))\n",
    "P_big, Q_big = (np.random.rand(i, 80) for i in (100, 120))\n",
    "\n",
    "print(P, \"\\n\\n\", Q)"
   ]
  },
  {
   "cell_type": "markdown",
   "execution_count": null,
   "metadata": {},
   "source": [
    "Solution\n",
    "==="
   ]
  },
  {
   "cell_type": "code",
   "execution_count": null,
   "metadata": {
    "tags": []
   },
   "outputs": [
    {
     "name": "stdout",
     "output_type": "stream",
     "text": [
      "✅ Your `naive` passed 1 tests.\n"
     ]
    }
   ],
   "source": [
    "\n",
    "def naive(P, Q):\n",
    "    \"\"\"\n",
    "    A naive solution for finding pairvise distances between poins in P and Q\n",
    "\n",
    "    Args:\n",
    "        P: numpy array of shape=(p, 2)\n",
    "        Q: numpy array of shape=(q, 2)\n",
    "    Returns:\n",
    "        D: numpy array of shape=(p, q)\n",
    "\n",
    "    >>> naive(np.array([[0, 1]]), np.array([[2, 3], [4, 5]]))\n",
    "    array([[2.82842712, 5.65685425]])\n",
    "    \"\"\"\n",
    "    # ***************************************************\n",
    "    # INSERT YOUR CODE HERE\n",
    "    # TODO: implement a naive solution\n",
    "    # ***************************************************\n",
    "    ans = np.array([np.sqrt(np.sum((x-y)**2)) for x in P for y in Q])\n",
    "    ans = np.reshape(ans, (-1, 2))\n",
    "\n",
    "    return ans\n",
    "    \n",
    "\n",
    "\n",
    "test(naive)"
   ]
  },
  {
   "cell_type": "code",
   "execution_count": null,
   "metadata": {
    "execution": {
     "iopub.execute_input": "2022-10-20T20:24:04.942714Z",
     "iopub.status.busy": "2022-10-20T20:24:04.942523Z",
     "iopub.status.idle": "2022-10-20T20:24:04.961231Z",
     "shell.execute_reply": "2022-10-20T20:24:04.960711Z"
    }
   },
   "outputs": [],
   "source": []
  },
  {
   "cell_type": "markdown",
   "execution_count": null,
   "metadata": {},
   "source": [
    "### Use matching indices\n",
    "\n",
    "Instead of iterating through indices, one can use them directly to parallelize the operations with Numpy."
   ]
  },
  {
   "cell_type": "code",
   "execution_count": 4,
   "metadata": {
    "tags": []
   },
   "outputs": [
    {
     "name": "stdout",
     "output_type": "stream",
     "text": [
      "[[0 0 0 0 0]\n",
      " [1 1 1 1 1]\n",
      " [2 2 2 2 2]\n",
      " [3 3 3 3 3]]\n",
      "\n",
      "[[0 1 2 3 4]\n",
      " [0 1 2 3 4]\n",
      " [0 1 2 3 4]\n",
      " [0 1 2 3 4]]\n",
      "\n",
      "\n",
      " [[[0 0 0]\n",
      "  [1 1 1]]\n",
      "\n",
      " [[0 1 2]\n",
      "  [0 1 2]]]\n"
     ]
    }
   ],
   "source": [
    "rows, cols = np.indices((P.shape[0], Q.shape[0]))\n",
    "print(rows, end=\"\\n\\n\")\n",
    "print(cols)\n",
    "print(\"\\n\\n\", np.indices((2,3)))"
   ]
  },
  {
   "cell_type": "code",
   "execution_count": 5,
   "metadata": {
    "tags": []
   },
   "outputs": [
    {
     "name": "stdout",
     "output_type": "stream",
     "text": [
      "[0 0 0 0 0 1 1 1 1 1 2 2 2 2 2 3 3 3 3 3]\n"
     ]
    }
   ],
   "source": [
    "print(rows.ravel())"
   ]
  },
  {
   "cell_type": "code",
   "execution_count": 6,
   "metadata": {
    "tags": []
   },
   "outputs": [
    {
     "name": "stdout",
     "output_type": "stream",
     "text": [
      "[0 1 2 3 4 0 1 2 3 4 0 1 2 3 4 0 1 2 3 4]\n"
     ]
    }
   ],
   "source": [
    "print(cols.ravel())"
   ]
  },
  {
   "cell_type": "code",
   "execution_count": 7,
   "metadata": {
    "tags": []
   },
   "outputs": [
    {
     "name": "stdout",
     "output_type": "stream",
     "text": [
      "[[0.77132064 0.02075195]\n",
      " [0.63364823 0.74880388]\n",
      " [0.49850701 0.22479665]\n",
      " [0.19806286 0.76053071]]\n",
      "[[0.77132064 0.02075195]\n",
      " [0.77132064 0.02075195]\n",
      " [0.77132064 0.02075195]\n",
      " [0.77132064 0.02075195]\n",
      " [0.77132064 0.02075195]\n",
      " [0.77132064 0.02075195]\n",
      " [0.77132064 0.02075195]\n",
      " [0.77132064 0.02075195]]\n",
      "[[0.77132064 0.02075195]\n",
      " [0.63364823 0.74880388]\n",
      " [0.49850701 0.22479665]\n",
      " [0.19806286 0.76053071]\n",
      " [0.77132064 0.02075195]\n",
      " [0.63364823 0.74880388]\n",
      " [0.49850701 0.22479665]\n",
      " [0.19806286 0.76053071]]\n"
     ]
    }
   ],
   "source": [
    "print(P, end=\"\\n\")\n",
    "print(P[[0, 0, 0, 0, 0, 0, 0, 0]])\n",
    "print(P[[0, 1, 2, 3, 0, 1, 2, 3]])"
   ]
  },
  {
   "cell_type": "code",
   "execution_count": 8,
   "metadata": {
    "tags": []
   },
   "outputs": [
    {
     "name": "stdout",
     "output_type": "stream",
     "text": [
      "[[0.77132064 0.02075195]\n",
      " [0.77132064 0.02075195]\n",
      " [0.77132064 0.02075195]\n",
      " [0.77132064 0.02075195]\n",
      " [0.77132064 0.02075195]\n",
      " [0.63364823 0.74880388]\n",
      " [0.63364823 0.74880388]\n",
      " [0.63364823 0.74880388]\n",
      " [0.63364823 0.74880388]\n",
      " [0.63364823 0.74880388]\n",
      " [0.49850701 0.22479665]\n",
      " [0.49850701 0.22479665]\n",
      " [0.49850701 0.22479665]\n",
      " [0.49850701 0.22479665]\n",
      " [0.49850701 0.22479665]\n",
      " [0.19806286 0.76053071]\n",
      " [0.19806286 0.76053071]\n",
      " [0.19806286 0.76053071]\n",
      " [0.19806286 0.76053071]\n",
      " [0.19806286 0.76053071]]\n",
      "\n",
      "[[0.16911084 0.08833981]\n",
      " [0.68535982 0.95339335]\n",
      " [0.00394827 0.51219226]\n",
      " [0.81262096 0.61252607]\n",
      " [0.72175532 0.29187607]\n",
      " [0.16911084 0.08833981]\n",
      " [0.68535982 0.95339335]\n",
      " [0.00394827 0.51219226]\n",
      " [0.81262096 0.61252607]\n",
      " [0.72175532 0.29187607]\n",
      " [0.16911084 0.08833981]\n",
      " [0.68535982 0.95339335]\n",
      " [0.00394827 0.51219226]\n",
      " [0.81262096 0.61252607]\n",
      " [0.72175532 0.29187607]\n",
      " [0.16911084 0.08833981]\n",
      " [0.68535982 0.95339335]\n",
      " [0.00394827 0.51219226]\n",
      " [0.81262096 0.61252607]\n",
      " [0.72175532 0.29187607]]\n"
     ]
    }
   ],
   "source": [
    "print(P[rows.ravel()], end=\"\\n\\n\")\n",
    "print(Q[cols.ravel()])"
   ]
  },
  {
   "cell_type": "code",
   "execution_count": 9,
   "metadata": {
    "tags": []
   },
   "outputs": [
    {
     "name": "stdout",
     "output_type": "stream",
     "text": [
      "✅ Your `with_indices` passed 1 tests.\n"
     ]
    }
   ],
   "source": [
    "def with_indices(P, Q):\n",
    "    \"\"\"\n",
    "    An optimized solution using matching indices\n",
    "\n",
    "    Args:\n",
    "        P: numpy array of shape=(p, 2)\n",
    "        Q: numpy array of shape=(q, 2)\n",
    "    Returns:\n",
    "        D: numpy array of shape=(p, q)\n",
    "\n",
    "    >>> with_indices(np.array([[0, 1]]), np.array([[2, 3], [4, 5]]))\n",
    "    array([[2.82842712, 5.65685425]])\n",
    "    \"\"\"\n",
    "    row_idx, col_idx = np.indices((P.shape[0], Q.shape[0]))\n",
    "    # use ravel() to flatten the indices\n",
    "    coord_diff = P[row_idx.ravel()] - Q[col_idx.ravel()]\n",
    "    euc_dist = np.sqrt(np.sum(coord_diff ** 2, axis=1))\n",
    "    \n",
    "    return np.array([euc_dist])\n",
    "    \n",
    "\n",
    "\n",
    "test(with_indices)"
   ]
  },
  {
   "cell_type": "code",
   "execution_count": null,
   "metadata": {
    "execution": {
     "iopub.execute_input": "2022-10-20T20:24:05.028384Z",
     "iopub.status.busy": "2022-10-20T20:24:05.028202Z",
     "iopub.status.idle": "2022-10-20T20:24:05.046152Z",
     "shell.execute_reply": "2022-10-20T20:24:05.045359Z"
    }
   },
   "outputs": [],
   "source": []
  },
  {
   "cell_type": "markdown",
   "execution_count": null,
   "metadata": {},
   "source": [
    "### Use a library\n",
    "\n",
    "`scipy` is the equivalent of matlab toolboxes and have a lot to offer. Actually the pairwise computation is part of the library through the `spatial` module."
   ]
  },
  {
   "cell_type": "code",
   "execution_count": 11,
   "metadata": {
    "tags": []
   },
   "outputs": [],
   "source": [
    "from scipy.spatial.distance import cdist\n",
    "\n",
    "\n",
    "def scipy_version(P, Q):\n",
    "    \"\"\"\n",
    "    A solution using scipy\n",
    "\n",
    "    Args:\n",
    "        P: numpy array of shape=(p, 2)\n",
    "        Q: numpy array of shape=(q, 2)\n",
    "\n",
    "    Returns:\n",
    "        D: numpy array of shape=(p, q)\n",
    "\n",
    "    >>> scipy_version(np.array([[0, 1]]), np.array([[2, 3], [4, 5]]))\n",
    "    array([[2.82842712, 5.65685425]])\n",
    "    \"\"\"\n",
    "    return cdist(P, Q)"
   ]
  },
  {
   "cell_type": "markdown",
   "execution_count": null,
   "metadata": {},
   "source": [
    "### Numpy Magic"
   ]
  },
  {
   "cell_type": "code",
   "execution_count": 12,
   "metadata": {
    "tags": []
   },
   "outputs": [],
   "source": [
    "def tensor_broadcasting(P, Q):\n",
    "    \"\"\"\n",
    "    A solution using tensor broadcasting\n",
    "\n",
    "    Args:\n",
    "        P: numpy array of shape=(p, 2)\n",
    "        Q: numpy array of shape=(q, 2)\n",
    "\n",
    "    Returns:\n",
    "        D: numpy array of shape=(p, q)\n",
    "\n",
    "    >>> tensor_broadcasting(np.array([[0, 1]]), np.array([[2, 3], [4, 5]]))\n",
    "    array([[2.82842712, 5.65685425]])\n",
    "    \"\"\"\n",
    "    return np.sqrt(np.sum((P[:, np.newaxis, :] - Q[np.newaxis, :, :]) ** 2, axis=2))"
   ]
  },
  {
   "cell_type": "markdown",
   "execution_count": null,
   "metadata": {},
   "source": [
    "# Compare methods"
   ]
  },
  {
   "cell_type": "code",
   "execution_count": 16,
   "metadata": {
    "tags": []
   },
   "outputs": [
    {
     "name": "stdout",
     "output_type": "stream",
     "text": [
      "115 ms ± 18.2 ms per loop (mean ± std. dev. of 7 runs, 10 loops each)\n",
      "10.1 ms ± 452 µs per loop (mean ± std. dev. of 7 runs, 100 loops each)\n",
      "510 µs ± 20 µs per loop (mean ± std. dev. of 7 runs, 1,000 loops each)\n",
      "3.01 ms ± 71.4 µs per loop (mean ± std. dev. of 7 runs, 100 loops each)\n"
     ]
    }
   ],
   "source": [
    "methods = [\n",
    "    naive,\n",
    "    naive_2,  # This is another possible solution. Feel free to comment it out if you have only one solution.\n",
    "    with_indices,\n",
    "    with_indices_2,  # This is another possible solution. Feel free to comment it out if you have only one solution.\n",
    "    scipy_version,\n",
    "    tensor_broadcasting,\n",
    "]\n",
    "timers = []\n",
    "for f in methods:\n",
    "    r = %timeit -o f(P_big, Q_big)\n",
    "    timers.append(r)"
   ]
  },
  {
   "cell_type": "code",
   "execution_count": 15,
   "metadata": {
    "tags": []
   },
   "outputs": [
    {
     "data": {
      "image/png": "[encoded data removed]",
      "text/plain": [
       "<Figure size 1000x600 with 1 Axes>"
      ]
     },
     "metadata": {},
     "output_type": "display_data"
    }
   ],
   "source": [
    "plt.figure(figsize=(10, 6))\n",
    "plt.bar(\n",
    "    np.arange(len(methods)), [r.best * 1000 for r in timers], log=False\n",
    ")  # Set log to True for logarithmic scale\n",
    "plt.xticks(np.arange(len(methods)) + 0.2, [f.__name__ for f in methods], rotation=30)\n",
    "plt.xlabel(\"Method\")\n",
    "plt.ylabel(\"Time (ms)\")\n",
    "plt.show()"
   ]
  }
 ],
 "metadata": {
  "kernelspec": {
   "display_name": "Python3",
   "language": "python",
   "name": "python3"
  },
  "language_info": {
   "codemirror_mode": {
    "name": "ipython",
    "version": 3
   },
   "file_extension": ".py",
   "mimetype": "text/x-python",
   "name": "python",
   "nbconvert_exporter": "python",
   "pygments_lexer": "ipython3",
   "version": "3.11.5"
  }
 },
 "nbformat": 4,
 "nbformat_minor": 4
}
